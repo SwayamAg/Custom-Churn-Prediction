{
  "cells": [
    {
      "cell_type": "code",
      "execution_count": 3,
      "metadata": {
        "id": "JS66MKFHhkn0"
      },
      "outputs": [],
      "source": [
        "import pandas as pd\n",
        "import numpy as np"
      ]
    },
    {
      "cell_type": "code",
      "execution_count": 4,
      "metadata": {
        "colab": {
          "base_uri": "https://localhost:8080/"
        },
        "id": "wHGavL3tZxb7",
        "outputId": "4ac404cd-1236-4127-f663-1540355c1f43"
      },
      "outputs": [
        {
          "output_type": "stream",
          "name": "stdout",
          "text": [
            "Dataset Preview:\n",
            "   RowNumber  CustomerId   Surname  CreditScore Geography  Gender  Age  \\\n",
            "0          1    15634602  Hargrave          619    France  Female   42   \n",
            "1          2    15647311      Hill          608     Spain  Female   41   \n",
            "2          3    15619304      Onio          502    France  Female   42   \n",
            "3          4    15701354      Boni          699    France  Female   39   \n",
            "4          5    15737888  Mitchell          850     Spain  Female   43   \n",
            "\n",
            "   Tenure    Balance  NumOfProducts  HasCrCard  IsActiveMember  \\\n",
            "0       2       0.00              1          1               1   \n",
            "1       1   83807.86              1          0               1   \n",
            "2       8  159660.80              3          1               0   \n",
            "3       1       0.00              2          0               0   \n",
            "4       2  125510.82              1          1               1   \n",
            "\n",
            "   EstimatedSalary  Exited  \n",
            "0        101348.88       1  \n",
            "1        112542.58       0  \n",
            "2        113931.57       1  \n",
            "3         93826.63       0  \n",
            "4         79084.10       0  \n",
            "\n",
            "Dataset Summary:\n",
            "<class 'pandas.core.frame.DataFrame'>\n",
            "RangeIndex: 10000 entries, 0 to 9999\n",
            "Data columns (total 14 columns):\n",
            " #   Column           Non-Null Count  Dtype  \n",
            "---  ------           --------------  -----  \n",
            " 0   RowNumber        10000 non-null  int64  \n",
            " 1   CustomerId       10000 non-null  int64  \n",
            " 2   Surname          10000 non-null  object \n",
            " 3   CreditScore      10000 non-null  int64  \n",
            " 4   Geography        10000 non-null  object \n",
            " 5   Gender           10000 non-null  object \n",
            " 6   Age              10000 non-null  int64  \n",
            " 7   Tenure           10000 non-null  int64  \n",
            " 8   Balance          10000 non-null  float64\n",
            " 9   NumOfProducts    10000 non-null  int64  \n",
            " 10  HasCrCard        10000 non-null  int64  \n",
            " 11  IsActiveMember   10000 non-null  int64  \n",
            " 12  EstimatedSalary  10000 non-null  float64\n",
            " 13  Exited           10000 non-null  int64  \n",
            "dtypes: float64(2), int64(9), object(3)\n",
            "memory usage: 1.1+ MB\n",
            "None\n",
            "\n",
            "Checking for missing values:\n",
            "RowNumber          0\n",
            "CustomerId         0\n",
            "Surname            0\n",
            "CreditScore        0\n",
            "Geography          0\n",
            "Gender             0\n",
            "Age                0\n",
            "Tenure             0\n",
            "Balance            0\n",
            "NumOfProducts      0\n",
            "HasCrCard          0\n",
            "IsActiveMember     0\n",
            "EstimatedSalary    0\n",
            "Exited             0\n",
            "dtype: int64\n"
          ]
        }
      ],
      "source": [
        "# Load dataset and display basic info\n",
        "df = pd.read_csv(\"Churn_Modelling.csv\")\n",
        "print(\"Dataset Preview:\")\n",
        "print(df.head())\n",
        "\n",
        "print(\"\\nDataset Summary:\")\n",
        "print(df.info())\n",
        "\n",
        "print(\"\\nChecking for missing values:\")\n",
        "print(df.isnull().sum())\n"
      ]
    },
    {
      "cell_type": "code",
      "execution_count": 5,
      "metadata": {
        "id": "z7CYUchjh85M"
      },
      "outputs": [],
      "source": [
        "# Drop unnecessary columns\n",
        "df.drop(columns=['RowNumber', 'CustomerId', 'Surname'], inplace=True)\n",
        "\n",
        "# One-hot encoding for categorical features\n",
        "df = pd.get_dummies(df, columns=['Geography', 'Gender'], drop_first=True)"
      ]
    },
    {
      "cell_type": "code",
      "execution_count": 6,
      "metadata": {
        "id": "xx1S1CK1ht-O"
      },
      "outputs": [],
      "source": [
        "# Splitting dataset into training and testing sets (80% train, 20% test)\n",
        "from sklearn.model_selection import train_test_split\n",
        "from sklearn.preprocessing import StandardScaler\n",
        "\n",
        "X = df.drop(columns=['Exited'])\n",
        "y = df['Exited']\n",
        "\n",
        "# Use 80% for training and 20% for testing\n",
        "X_train, X_test, y_train, y_test = train_test_split(X, y, test_size=0.2, random_state=1, stratify=y)\n",
        "\n",
        "# Scaling features using StandardScaler (fit only on training data)\n",
        "scaler = StandardScaler()\n",
        "X_train_scaled = scaler.fit_transform(X_train)\n",
        "X_test_scaled = scaler.transform(X_test)\n"
      ]
    },
    {
      "cell_type": "code",
      "execution_count": 7,
      "metadata": {
        "colab": {
          "base_uri": "https://localhost:8080/",
          "height": 312
        },
        "id": "zscAi6ZAhysg",
        "outputId": "63a18e40-0ff8-4f7c-bbbc-39b8126ba467"
      },
      "outputs": [
        {
          "output_type": "stream",
          "name": "stderr",
          "text": [
            "/usr/local/lib/python3.11/dist-packages/keras/src/layers/core/dense.py:87: UserWarning: Do not pass an `input_shape`/`input_dim` argument to a layer. When using Sequential models, prefer using an `Input(shape)` object as the first layer in the model instead.\n",
            "  super().__init__(activity_regularizer=activity_regularizer, **kwargs)\n"
          ]
        },
        {
          "output_type": "display_data",
          "data": {
            "text/plain": [
              "\u001b[1mModel: \"sequential\"\u001b[0m\n"
            ],
            "text/html": [
              "<pre style=\"white-space:pre;overflow-x:auto;line-height:normal;font-family:Menlo,'DejaVu Sans Mono',consolas,'Courier New',monospace\"><span style=\"font-weight: bold\">Model: \"sequential\"</span>\n",
              "</pre>\n"
            ]
          },
          "metadata": {}
        },
        {
          "output_type": "display_data",
          "data": {
            "text/plain": [
              "┏━━━━━━━━━━━━━━━━━━━━━━━━━━━━━━━━━━━━━━┳━━━━━━━━━━━━━━━━━━━━━━━━━━━━━┳━━━━━━━━━━━━━━━━━┓\n",
              "┃\u001b[1m \u001b[0m\u001b[1mLayer (type)                        \u001b[0m\u001b[1m \u001b[0m┃\u001b[1m \u001b[0m\u001b[1mOutput Shape               \u001b[0m\u001b[1m \u001b[0m┃\u001b[1m \u001b[0m\u001b[1m        Param #\u001b[0m\u001b[1m \u001b[0m┃\n",
              "┡━━━━━━━━━━━━━━━━━━━━━━━━━━━━━━━━━━━━━━╇━━━━━━━━━━━━━━━━━━━━━━━━━━━━━╇━━━━━━━━━━━━━━━━━┩\n",
              "│ dense (\u001b[38;5;33mDense\u001b[0m)                        │ (\u001b[38;5;45mNone\u001b[0m, \u001b[38;5;34m64\u001b[0m)                  │             \u001b[38;5;34m768\u001b[0m │\n",
              "├──────────────────────────────────────┼─────────────────────────────┼─────────────────┤\n",
              "│ dropout (\u001b[38;5;33mDropout\u001b[0m)                    │ (\u001b[38;5;45mNone\u001b[0m, \u001b[38;5;34m64\u001b[0m)                  │               \u001b[38;5;34m0\u001b[0m │\n",
              "├──────────────────────────────────────┼─────────────────────────────┼─────────────────┤\n",
              "│ dense_1 (\u001b[38;5;33mDense\u001b[0m)                      │ (\u001b[38;5;45mNone\u001b[0m, \u001b[38;5;34m32\u001b[0m)                  │           \u001b[38;5;34m2,080\u001b[0m │\n",
              "├──────────────────────────────────────┼─────────────────────────────┼─────────────────┤\n",
              "│ dense_2 (\u001b[38;5;33mDense\u001b[0m)                      │ (\u001b[38;5;45mNone\u001b[0m, \u001b[38;5;34m1\u001b[0m)                   │              \u001b[38;5;34m33\u001b[0m │\n",
              "└──────────────────────────────────────┴─────────────────────────────┴─────────────────┘\n"
            ],
            "text/html": [
              "<pre style=\"white-space:pre;overflow-x:auto;line-height:normal;font-family:Menlo,'DejaVu Sans Mono',consolas,'Courier New',monospace\">┏━━━━━━━━━━━━━━━━━━━━━━━━━━━━━━━━━━━━━━┳━━━━━━━━━━━━━━━━━━━━━━━━━━━━━┳━━━━━━━━━━━━━━━━━┓\n",
              "┃<span style=\"font-weight: bold\"> Layer (type)                         </span>┃<span style=\"font-weight: bold\"> Output Shape                </span>┃<span style=\"font-weight: bold\">         Param # </span>┃\n",
              "┡━━━━━━━━━━━━━━━━━━━━━━━━━━━━━━━━━━━━━━╇━━━━━━━━━━━━━━━━━━━━━━━━━━━━━╇━━━━━━━━━━━━━━━━━┩\n",
              "│ dense (<span style=\"color: #0087ff; text-decoration-color: #0087ff\">Dense</span>)                        │ (<span style=\"color: #00d7ff; text-decoration-color: #00d7ff\">None</span>, <span style=\"color: #00af00; text-decoration-color: #00af00\">64</span>)                  │             <span style=\"color: #00af00; text-decoration-color: #00af00\">768</span> │\n",
              "├──────────────────────────────────────┼─────────────────────────────┼─────────────────┤\n",
              "│ dropout (<span style=\"color: #0087ff; text-decoration-color: #0087ff\">Dropout</span>)                    │ (<span style=\"color: #00d7ff; text-decoration-color: #00d7ff\">None</span>, <span style=\"color: #00af00; text-decoration-color: #00af00\">64</span>)                  │               <span style=\"color: #00af00; text-decoration-color: #00af00\">0</span> │\n",
              "├──────────────────────────────────────┼─────────────────────────────┼─────────────────┤\n",
              "│ dense_1 (<span style=\"color: #0087ff; text-decoration-color: #0087ff\">Dense</span>)                      │ (<span style=\"color: #00d7ff; text-decoration-color: #00d7ff\">None</span>, <span style=\"color: #00af00; text-decoration-color: #00af00\">32</span>)                  │           <span style=\"color: #00af00; text-decoration-color: #00af00\">2,080</span> │\n",
              "├──────────────────────────────────────┼─────────────────────────────┼─────────────────┤\n",
              "│ dense_2 (<span style=\"color: #0087ff; text-decoration-color: #0087ff\">Dense</span>)                      │ (<span style=\"color: #00d7ff; text-decoration-color: #00d7ff\">None</span>, <span style=\"color: #00af00; text-decoration-color: #00af00\">1</span>)                   │              <span style=\"color: #00af00; text-decoration-color: #00af00\">33</span> │\n",
              "└──────────────────────────────────────┴─────────────────────────────┴─────────────────┘\n",
              "</pre>\n"
            ]
          },
          "metadata": {}
        },
        {
          "output_type": "display_data",
          "data": {
            "text/plain": [
              "\u001b[1m Total params: \u001b[0m\u001b[38;5;34m2,881\u001b[0m (11.25 KB)\n"
            ],
            "text/html": [
              "<pre style=\"white-space:pre;overflow-x:auto;line-height:normal;font-family:Menlo,'DejaVu Sans Mono',consolas,'Courier New',monospace\"><span style=\"font-weight: bold\"> Total params: </span><span style=\"color: #00af00; text-decoration-color: #00af00\">2,881</span> (11.25 KB)\n",
              "</pre>\n"
            ]
          },
          "metadata": {}
        },
        {
          "output_type": "display_data",
          "data": {
            "text/plain": [
              "\u001b[1m Trainable params: \u001b[0m\u001b[38;5;34m2,881\u001b[0m (11.25 KB)\n"
            ],
            "text/html": [
              "<pre style=\"white-space:pre;overflow-x:auto;line-height:normal;font-family:Menlo,'DejaVu Sans Mono',consolas,'Courier New',monospace\"><span style=\"font-weight: bold\"> Trainable params: </span><span style=\"color: #00af00; text-decoration-color: #00af00\">2,881</span> (11.25 KB)\n",
              "</pre>\n"
            ]
          },
          "metadata": {}
        },
        {
          "output_type": "display_data",
          "data": {
            "text/plain": [
              "\u001b[1m Non-trainable params: \u001b[0m\u001b[38;5;34m0\u001b[0m (0.00 B)\n"
            ],
            "text/html": [
              "<pre style=\"white-space:pre;overflow-x:auto;line-height:normal;font-family:Menlo,'DejaVu Sans Mono',consolas,'Courier New',monospace\"><span style=\"font-weight: bold\"> Non-trainable params: </span><span style=\"color: #00af00; text-decoration-color: #00af00\">0</span> (0.00 B)\n",
              "</pre>\n"
            ]
          },
          "metadata": {}
        }
      ],
      "source": [
        "# Building an optimized neural network model\n",
        "import tensorflow as tf\n",
        "from tensorflow.keras.models import Sequential\n",
        "from tensorflow.keras.layers import Dense, Dropout\n",
        "\n",
        "# Define model architecture\n",
        "model = Sequential([\n",
        "    Dense(64, activation='relu', input_shape=(X_train.shape[1],)),\n",
        "    Dropout(0.3),  # Adding dropout for regularization\n",
        "    Dense(32, activation='relu'),\n",
        "    Dense(1, activation='sigmoid')  # Binary classification output layer\n",
        "])\n",
        "\n",
        "# Compiling the model\n",
        "model.compile(optimizer='adam', loss='binary_crossentropy', metrics=['accuracy'])\n",
        "\n",
        "# Display model summary\n",
        "model.summary()\n"
      ]
    },
    {
      "cell_type": "code",
      "execution_count": 8,
      "metadata": {
        "colab": {
          "base_uri": "https://localhost:8080/",
          "height": 257
        },
        "id": "uyiCtIatio-e",
        "outputId": "af33db39-7285-467a-f080-bda4eb74e65c"
      },
      "outputs": [
        {
          "output_type": "display_data",
          "data": {
            "text/plain": [
              "\u001b[1mModel: \"sequential_1\"\u001b[0m\n"
            ],
            "text/html": [
              "<pre style=\"white-space:pre;overflow-x:auto;line-height:normal;font-family:Menlo,'DejaVu Sans Mono',consolas,'Courier New',monospace\"><span style=\"font-weight: bold\">Model: \"sequential_1\"</span>\n",
              "</pre>\n"
            ]
          },
          "metadata": {}
        },
        {
          "output_type": "display_data",
          "data": {
            "text/plain": [
              "┏━━━━━━━━━━━━━━━━━━━━━━━━━━━━━━━━━━━━━━┳━━━━━━━━━━━━━━━━━━━━━━━━━━━━━┳━━━━━━━━━━━━━━━━━┓\n",
              "┃\u001b[1m \u001b[0m\u001b[1mLayer (type)                        \u001b[0m\u001b[1m \u001b[0m┃\u001b[1m \u001b[0m\u001b[1mOutput Shape               \u001b[0m\u001b[1m \u001b[0m┃\u001b[1m \u001b[0m\u001b[1m        Param #\u001b[0m\u001b[1m \u001b[0m┃\n",
              "┡━━━━━━━━━━━━━━━━━━━━━━━━━━━━━━━━━━━━━━╇━━━━━━━━━━━━━━━━━━━━━━━━━━━━━╇━━━━━━━━━━━━━━━━━┩\n",
              "│ dense_3 (\u001b[38;5;33mDense\u001b[0m)                      │ (\u001b[38;5;45mNone\u001b[0m, \u001b[38;5;34m64\u001b[0m)                  │             \u001b[38;5;34m768\u001b[0m │\n",
              "├──────────────────────────────────────┼─────────────────────────────┼─────────────────┤\n",
              "│ dropout_1 (\u001b[38;5;33mDropout\u001b[0m)                  │ (\u001b[38;5;45mNone\u001b[0m, \u001b[38;5;34m64\u001b[0m)                  │               \u001b[38;5;34m0\u001b[0m │\n",
              "├──────────────────────────────────────┼─────────────────────────────┼─────────────────┤\n",
              "│ dense_4 (\u001b[38;5;33mDense\u001b[0m)                      │ (\u001b[38;5;45mNone\u001b[0m, \u001b[38;5;34m32\u001b[0m)                  │           \u001b[38;5;34m2,080\u001b[0m │\n",
              "├──────────────────────────────────────┼─────────────────────────────┼─────────────────┤\n",
              "│ dense_5 (\u001b[38;5;33mDense\u001b[0m)                      │ (\u001b[38;5;45mNone\u001b[0m, \u001b[38;5;34m1\u001b[0m)                   │              \u001b[38;5;34m33\u001b[0m │\n",
              "└──────────────────────────────────────┴─────────────────────────────┴─────────────────┘\n"
            ],
            "text/html": [
              "<pre style=\"white-space:pre;overflow-x:auto;line-height:normal;font-family:Menlo,'DejaVu Sans Mono',consolas,'Courier New',monospace\">┏━━━━━━━━━━━━━━━━━━━━━━━━━━━━━━━━━━━━━━┳━━━━━━━━━━━━━━━━━━━━━━━━━━━━━┳━━━━━━━━━━━━━━━━━┓\n",
              "┃<span style=\"font-weight: bold\"> Layer (type)                         </span>┃<span style=\"font-weight: bold\"> Output Shape                </span>┃<span style=\"font-weight: bold\">         Param # </span>┃\n",
              "┡━━━━━━━━━━━━━━━━━━━━━━━━━━━━━━━━━━━━━━╇━━━━━━━━━━━━━━━━━━━━━━━━━━━━━╇━━━━━━━━━━━━━━━━━┩\n",
              "│ dense_3 (<span style=\"color: #0087ff; text-decoration-color: #0087ff\">Dense</span>)                      │ (<span style=\"color: #00d7ff; text-decoration-color: #00d7ff\">None</span>, <span style=\"color: #00af00; text-decoration-color: #00af00\">64</span>)                  │             <span style=\"color: #00af00; text-decoration-color: #00af00\">768</span> │\n",
              "├──────────────────────────────────────┼─────────────────────────────┼─────────────────┤\n",
              "│ dropout_1 (<span style=\"color: #0087ff; text-decoration-color: #0087ff\">Dropout</span>)                  │ (<span style=\"color: #00d7ff; text-decoration-color: #00d7ff\">None</span>, <span style=\"color: #00af00; text-decoration-color: #00af00\">64</span>)                  │               <span style=\"color: #00af00; text-decoration-color: #00af00\">0</span> │\n",
              "├──────────────────────────────────────┼─────────────────────────────┼─────────────────┤\n",
              "│ dense_4 (<span style=\"color: #0087ff; text-decoration-color: #0087ff\">Dense</span>)                      │ (<span style=\"color: #00d7ff; text-decoration-color: #00d7ff\">None</span>, <span style=\"color: #00af00; text-decoration-color: #00af00\">32</span>)                  │           <span style=\"color: #00af00; text-decoration-color: #00af00\">2,080</span> │\n",
              "├──────────────────────────────────────┼─────────────────────────────┼─────────────────┤\n",
              "│ dense_5 (<span style=\"color: #0087ff; text-decoration-color: #0087ff\">Dense</span>)                      │ (<span style=\"color: #00d7ff; text-decoration-color: #00d7ff\">None</span>, <span style=\"color: #00af00; text-decoration-color: #00af00\">1</span>)                   │              <span style=\"color: #00af00; text-decoration-color: #00af00\">33</span> │\n",
              "└──────────────────────────────────────┴─────────────────────────────┴─────────────────┘\n",
              "</pre>\n"
            ]
          },
          "metadata": {}
        },
        {
          "output_type": "display_data",
          "data": {
            "text/plain": [
              "\u001b[1m Total params: \u001b[0m\u001b[38;5;34m2,881\u001b[0m (11.25 KB)\n"
            ],
            "text/html": [
              "<pre style=\"white-space:pre;overflow-x:auto;line-height:normal;font-family:Menlo,'DejaVu Sans Mono',consolas,'Courier New',monospace\"><span style=\"font-weight: bold\"> Total params: </span><span style=\"color: #00af00; text-decoration-color: #00af00\">2,881</span> (11.25 KB)\n",
              "</pre>\n"
            ]
          },
          "metadata": {}
        },
        {
          "output_type": "display_data",
          "data": {
            "text/plain": [
              "\u001b[1m Trainable params: \u001b[0m\u001b[38;5;34m2,881\u001b[0m (11.25 KB)\n"
            ],
            "text/html": [
              "<pre style=\"white-space:pre;overflow-x:auto;line-height:normal;font-family:Menlo,'DejaVu Sans Mono',consolas,'Courier New',monospace\"><span style=\"font-weight: bold\"> Trainable params: </span><span style=\"color: #00af00; text-decoration-color: #00af00\">2,881</span> (11.25 KB)\n",
              "</pre>\n"
            ]
          },
          "metadata": {}
        },
        {
          "output_type": "display_data",
          "data": {
            "text/plain": [
              "\u001b[1m Non-trainable params: \u001b[0m\u001b[38;5;34m0\u001b[0m (0.00 B)\n"
            ],
            "text/html": [
              "<pre style=\"white-space:pre;overflow-x:auto;line-height:normal;font-family:Menlo,'DejaVu Sans Mono',consolas,'Courier New',monospace\"><span style=\"font-weight: bold\"> Non-trainable params: </span><span style=\"color: #00af00; text-decoration-color: #00af00\">0</span> (0.00 B)\n",
              "</pre>\n"
            ]
          },
          "metadata": {}
        }
      ],
      "source": [
        "# Building an optimized neural network model\n",
        "import tensorflow as tf\n",
        "from tensorflow.keras.models import Sequential\n",
        "from tensorflow.keras.layers import Dense, Dropout\n",
        "\n",
        "# Define model architecture\n",
        "model = Sequential([\n",
        "    Dense(64, activation='relu', input_shape=(X_train.shape[1],)),\n",
        "    Dropout(0.4),  # Adding dropout for regularization\n",
        "    Dense(32, activation='relu'),\n",
        "    Dense(1, activation='sigmoid')  # Binary classification output layer\n",
        "])\n",
        "\n",
        "# Compiling the model\n",
        "model.compile(optimizer='adam', loss='binary_crossentropy', metrics=['accuracy'])\n",
        "\n",
        "# Display model summary\n",
        "model.summary()\n"
      ]
    },
    {
      "cell_type": "code",
      "execution_count": 9,
      "metadata": {
        "colab": {
          "base_uri": "https://localhost:8080/",
          "height": 257
        },
        "id": "fYVhDuWiioEF",
        "outputId": "d72e7a3c-75e5-4c1f-f024-2835588e2034"
      },
      "outputs": [
        {
          "output_type": "display_data",
          "data": {
            "text/plain": [
              "\u001b[1mModel: \"sequential_1\"\u001b[0m\n"
            ],
            "text/html": [
              "<pre style=\"white-space:pre;overflow-x:auto;line-height:normal;font-family:Menlo,'DejaVu Sans Mono',consolas,'Courier New',monospace\"><span style=\"font-weight: bold\">Model: \"sequential_1\"</span>\n",
              "</pre>\n"
            ]
          },
          "metadata": {}
        },
        {
          "output_type": "display_data",
          "data": {
            "text/plain": [
              "┏━━━━━━━━━━━━━━━━━━━━━━━━━━━━━━━━━━━━━━┳━━━━━━━━━━━━━━━━━━━━━━━━━━━━━┳━━━━━━━━━━━━━━━━━┓\n",
              "┃\u001b[1m \u001b[0m\u001b[1mLayer (type)                        \u001b[0m\u001b[1m \u001b[0m┃\u001b[1m \u001b[0m\u001b[1mOutput Shape               \u001b[0m\u001b[1m \u001b[0m┃\u001b[1m \u001b[0m\u001b[1m        Param #\u001b[0m\u001b[1m \u001b[0m┃\n",
              "┡━━━━━━━━━━━━━━━━━━━━━━━━━━━━━━━━━━━━━━╇━━━━━━━━━━━━━━━━━━━━━━━━━━━━━╇━━━━━━━━━━━━━━━━━┩\n",
              "│ dense_3 (\u001b[38;5;33mDense\u001b[0m)                      │ (\u001b[38;5;45mNone\u001b[0m, \u001b[38;5;34m64\u001b[0m)                  │             \u001b[38;5;34m768\u001b[0m │\n",
              "├──────────────────────────────────────┼─────────────────────────────┼─────────────────┤\n",
              "│ dropout_1 (\u001b[38;5;33mDropout\u001b[0m)                  │ (\u001b[38;5;45mNone\u001b[0m, \u001b[38;5;34m64\u001b[0m)                  │               \u001b[38;5;34m0\u001b[0m │\n",
              "├──────────────────────────────────────┼─────────────────────────────┼─────────────────┤\n",
              "│ dense_4 (\u001b[38;5;33mDense\u001b[0m)                      │ (\u001b[38;5;45mNone\u001b[0m, \u001b[38;5;34m32\u001b[0m)                  │           \u001b[38;5;34m2,080\u001b[0m │\n",
              "├──────────────────────────────────────┼─────────────────────────────┼─────────────────┤\n",
              "│ dense_5 (\u001b[38;5;33mDense\u001b[0m)                      │ (\u001b[38;5;45mNone\u001b[0m, \u001b[38;5;34m1\u001b[0m)                   │              \u001b[38;5;34m33\u001b[0m │\n",
              "└──────────────────────────────────────┴─────────────────────────────┴─────────────────┘\n"
            ],
            "text/html": [
              "<pre style=\"white-space:pre;overflow-x:auto;line-height:normal;font-family:Menlo,'DejaVu Sans Mono',consolas,'Courier New',monospace\">┏━━━━━━━━━━━━━━━━━━━━━━━━━━━━━━━━━━━━━━┳━━━━━━━━━━━━━━━━━━━━━━━━━━━━━┳━━━━━━━━━━━━━━━━━┓\n",
              "┃<span style=\"font-weight: bold\"> Layer (type)                         </span>┃<span style=\"font-weight: bold\"> Output Shape                </span>┃<span style=\"font-weight: bold\">         Param # </span>┃\n",
              "┡━━━━━━━━━━━━━━━━━━━━━━━━━━━━━━━━━━━━━━╇━━━━━━━━━━━━━━━━━━━━━━━━━━━━━╇━━━━━━━━━━━━━━━━━┩\n",
              "│ dense_3 (<span style=\"color: #0087ff; text-decoration-color: #0087ff\">Dense</span>)                      │ (<span style=\"color: #00d7ff; text-decoration-color: #00d7ff\">None</span>, <span style=\"color: #00af00; text-decoration-color: #00af00\">64</span>)                  │             <span style=\"color: #00af00; text-decoration-color: #00af00\">768</span> │\n",
              "├──────────────────────────────────────┼─────────────────────────────┼─────────────────┤\n",
              "│ dropout_1 (<span style=\"color: #0087ff; text-decoration-color: #0087ff\">Dropout</span>)                  │ (<span style=\"color: #00d7ff; text-decoration-color: #00d7ff\">None</span>, <span style=\"color: #00af00; text-decoration-color: #00af00\">64</span>)                  │               <span style=\"color: #00af00; text-decoration-color: #00af00\">0</span> │\n",
              "├──────────────────────────────────────┼─────────────────────────────┼─────────────────┤\n",
              "│ dense_4 (<span style=\"color: #0087ff; text-decoration-color: #0087ff\">Dense</span>)                      │ (<span style=\"color: #00d7ff; text-decoration-color: #00d7ff\">None</span>, <span style=\"color: #00af00; text-decoration-color: #00af00\">32</span>)                  │           <span style=\"color: #00af00; text-decoration-color: #00af00\">2,080</span> │\n",
              "├──────────────────────────────────────┼─────────────────────────────┼─────────────────┤\n",
              "│ dense_5 (<span style=\"color: #0087ff; text-decoration-color: #0087ff\">Dense</span>)                      │ (<span style=\"color: #00d7ff; text-decoration-color: #00d7ff\">None</span>, <span style=\"color: #00af00; text-decoration-color: #00af00\">1</span>)                   │              <span style=\"color: #00af00; text-decoration-color: #00af00\">33</span> │\n",
              "└──────────────────────────────────────┴─────────────────────────────┴─────────────────┘\n",
              "</pre>\n"
            ]
          },
          "metadata": {}
        },
        {
          "output_type": "display_data",
          "data": {
            "text/plain": [
              "\u001b[1m Total params: \u001b[0m\u001b[38;5;34m2,881\u001b[0m (11.25 KB)\n"
            ],
            "text/html": [
              "<pre style=\"white-space:pre;overflow-x:auto;line-height:normal;font-family:Menlo,'DejaVu Sans Mono',consolas,'Courier New',monospace\"><span style=\"font-weight: bold\"> Total params: </span><span style=\"color: #00af00; text-decoration-color: #00af00\">2,881</span> (11.25 KB)\n",
              "</pre>\n"
            ]
          },
          "metadata": {}
        },
        {
          "output_type": "display_data",
          "data": {
            "text/plain": [
              "\u001b[1m Trainable params: \u001b[0m\u001b[38;5;34m2,881\u001b[0m (11.25 KB)\n"
            ],
            "text/html": [
              "<pre style=\"white-space:pre;overflow-x:auto;line-height:normal;font-family:Menlo,'DejaVu Sans Mono',consolas,'Courier New',monospace\"><span style=\"font-weight: bold\"> Trainable params: </span><span style=\"color: #00af00; text-decoration-color: #00af00\">2,881</span> (11.25 KB)\n",
              "</pre>\n"
            ]
          },
          "metadata": {}
        },
        {
          "output_type": "display_data",
          "data": {
            "text/plain": [
              "\u001b[1m Non-trainable params: \u001b[0m\u001b[38;5;34m0\u001b[0m (0.00 B)\n"
            ],
            "text/html": [
              "<pre style=\"white-space:pre;overflow-x:auto;line-height:normal;font-family:Menlo,'DejaVu Sans Mono',consolas,'Courier New',monospace\"><span style=\"font-weight: bold\"> Non-trainable params: </span><span style=\"color: #00af00; text-decoration-color: #00af00\">0</span> (0.00 B)\n",
              "</pre>\n"
            ]
          },
          "metadata": {}
        }
      ],
      "source": [
        "model.summary()"
      ]
    },
    {
      "cell_type": "code",
      "execution_count": 10,
      "metadata": {
        "id": "vtJNnFSjimUh"
      },
      "outputs": [],
      "source": [
        "model.compile(optimizer='Adam', loss='binary_crossentropy', metrics=['accuracy'])"
      ]
    },
    {
      "cell_type": "code",
      "execution_count": 11,
      "metadata": {
        "colab": {
          "base_uri": "https://localhost:8080/"
        },
        "id": "7zQ7IYBXjSkk",
        "outputId": "f475b72f-4629-4d0b-d6f1-d4c4843cb09e",
        "collapsed": true
      },
      "outputs": [
        {
          "output_type": "stream",
          "name": "stdout",
          "text": [
            "Epoch 1/50\n",
            "\u001b[1m250/250\u001b[0m \u001b[32m━━━━━━━━━━━━━━━━━━━━\u001b[0m\u001b[37m\u001b[0m \u001b[1m3s\u001b[0m 4ms/step - accuracy: 0.6913 - loss: 0.5680 - val_accuracy: 0.8110 - val_loss: 0.4184\n",
            "Epoch 2/50\n",
            "\u001b[1m250/250\u001b[0m \u001b[32m━━━━━━━━━━━━━━━━━━━━\u001b[0m\u001b[37m\u001b[0m \u001b[1m1s\u001b[0m 4ms/step - accuracy: 0.8072 - loss: 0.4394 - val_accuracy: 0.8290 - val_loss: 0.3986\n",
            "Epoch 3/50\n",
            "\u001b[1m250/250\u001b[0m \u001b[32m━━━━━━━━━━━━━━━━━━━━\u001b[0m\u001b[37m\u001b[0m \u001b[1m2s\u001b[0m 5ms/step - accuracy: 0.8274 - loss: 0.4102 - val_accuracy: 0.8470 - val_loss: 0.3741\n",
            "Epoch 4/50\n",
            "\u001b[1m250/250\u001b[0m \u001b[32m━━━━━━━━━━━━━━━━━━━━\u001b[0m\u001b[37m\u001b[0m \u001b[1m2s\u001b[0m 3ms/step - accuracy: 0.8367 - loss: 0.3935 - val_accuracy: 0.8525 - val_loss: 0.3630\n",
            "Epoch 5/50\n",
            "\u001b[1m250/250\u001b[0m \u001b[32m━━━━━━━━━━━━━━━━━━━━\u001b[0m\u001b[37m\u001b[0m \u001b[1m1s\u001b[0m 3ms/step - accuracy: 0.8438 - loss: 0.3835 - val_accuracy: 0.8555 - val_loss: 0.3577\n",
            "Epoch 6/50\n",
            "\u001b[1m250/250\u001b[0m \u001b[32m━━━━━━━━━━━━━━━━━━━━\u001b[0m\u001b[37m\u001b[0m \u001b[1m1s\u001b[0m 3ms/step - accuracy: 0.8483 - loss: 0.3679 - val_accuracy: 0.8555 - val_loss: 0.3548\n",
            "Epoch 7/50\n",
            "\u001b[1m250/250\u001b[0m \u001b[32m━━━━━━━━━━━━━━━━━━━━\u001b[0m\u001b[37m\u001b[0m \u001b[1m1s\u001b[0m 4ms/step - accuracy: 0.8546 - loss: 0.3566 - val_accuracy: 0.8570 - val_loss: 0.3552\n",
            "Epoch 8/50\n",
            "\u001b[1m250/250\u001b[0m \u001b[32m━━━━━━━━━━━━━━━━━━━━\u001b[0m\u001b[37m\u001b[0m \u001b[1m2s\u001b[0m 7ms/step - accuracy: 0.8507 - loss: 0.3634 - val_accuracy: 0.8560 - val_loss: 0.3577\n",
            "Epoch 9/50\n",
            "\u001b[1m250/250\u001b[0m \u001b[32m━━━━━━━━━━━━━━━━━━━━\u001b[0m\u001b[37m\u001b[0m \u001b[1m2s\u001b[0m 5ms/step - accuracy: 0.8447 - loss: 0.3660 - val_accuracy: 0.8545 - val_loss: 0.3548\n",
            "Epoch 10/50\n",
            "\u001b[1m250/250\u001b[0m \u001b[32m━━━━━━━━━━━━━━━━━━━━\u001b[0m\u001b[37m\u001b[0m \u001b[1m2s\u001b[0m 9ms/step - accuracy: 0.8577 - loss: 0.3419 - val_accuracy: 0.8555 - val_loss: 0.3551\n",
            "Epoch 11/50\n",
            "\u001b[1m250/250\u001b[0m \u001b[32m━━━━━━━━━━━━━━━━━━━━\u001b[0m\u001b[37m\u001b[0m \u001b[1m3s\u001b[0m 10ms/step - accuracy: 0.8505 - loss: 0.3546 - val_accuracy: 0.8570 - val_loss: 0.3531\n",
            "Epoch 12/50\n",
            "\u001b[1m250/250\u001b[0m \u001b[32m━━━━━━━━━━━━━━━━━━━━\u001b[0m\u001b[37m\u001b[0m \u001b[1m2s\u001b[0m 8ms/step - accuracy: 0.8646 - loss: 0.3306 - val_accuracy: 0.8565 - val_loss: 0.3502\n",
            "Epoch 13/50\n",
            "\u001b[1m250/250\u001b[0m \u001b[32m━━━━━━━━━━━━━━━━━━━━\u001b[0m\u001b[37m\u001b[0m \u001b[1m3s\u001b[0m 8ms/step - accuracy: 0.8499 - loss: 0.3599 - val_accuracy: 0.8605 - val_loss: 0.3482\n",
            "Epoch 14/50\n",
            "\u001b[1m250/250\u001b[0m \u001b[32m━━━━━━━━━━━━━━━━━━━━\u001b[0m\u001b[37m\u001b[0m \u001b[1m2s\u001b[0m 7ms/step - accuracy: 0.8590 - loss: 0.3399 - val_accuracy: 0.8570 - val_loss: 0.3491\n",
            "Epoch 15/50\n",
            "\u001b[1m250/250\u001b[0m \u001b[32m━━━━━━━━━━━━━━━━━━━━\u001b[0m\u001b[37m\u001b[0m \u001b[1m2s\u001b[0m 3ms/step - accuracy: 0.8515 - loss: 0.3450 - val_accuracy: 0.8595 - val_loss: 0.3496\n",
            "Epoch 16/50\n",
            "\u001b[1m250/250\u001b[0m \u001b[32m━━━━━━━━━━━━━━━━━━━━\u001b[0m\u001b[37m\u001b[0m \u001b[1m1s\u001b[0m 3ms/step - accuracy: 0.8590 - loss: 0.3357 - val_accuracy: 0.8575 - val_loss: 0.3466\n",
            "Epoch 17/50\n",
            "\u001b[1m250/250\u001b[0m \u001b[32m━━━━━━━━━━━━━━━━━━━━\u001b[0m\u001b[37m\u001b[0m \u001b[1m1s\u001b[0m 4ms/step - accuracy: 0.8528 - loss: 0.3437 - val_accuracy: 0.8630 - val_loss: 0.3494\n",
            "Epoch 18/50\n",
            "\u001b[1m250/250\u001b[0m \u001b[32m━━━━━━━━━━━━━━━━━━━━\u001b[0m\u001b[37m\u001b[0m \u001b[1m2s\u001b[0m 5ms/step - accuracy: 0.8473 - loss: 0.3568 - val_accuracy: 0.8615 - val_loss: 0.3478\n",
            "Epoch 19/50\n",
            "\u001b[1m250/250\u001b[0m \u001b[32m━━━━━━━━━━━━━━━━━━━━\u001b[0m\u001b[37m\u001b[0m \u001b[1m2s\u001b[0m 3ms/step - accuracy: 0.8579 - loss: 0.3464 - val_accuracy: 0.8610 - val_loss: 0.3501\n",
            "Epoch 20/50\n",
            "\u001b[1m250/250\u001b[0m \u001b[32m━━━━━━━━━━━━━━━━━━━━\u001b[0m\u001b[37m\u001b[0m \u001b[1m1s\u001b[0m 3ms/step - accuracy: 0.8568 - loss: 0.3438 - val_accuracy: 0.8615 - val_loss: 0.3472\n",
            "Epoch 21/50\n",
            "\u001b[1m250/250\u001b[0m \u001b[32m━━━━━━━━━━━━━━━━━━━━\u001b[0m\u001b[37m\u001b[0m \u001b[1m1s\u001b[0m 3ms/step - accuracy: 0.8579 - loss: 0.3380 - val_accuracy: 0.8660 - val_loss: 0.3460\n",
            "Epoch 22/50\n",
            "\u001b[1m250/250\u001b[0m \u001b[32m━━━━━━━━━━━━━━━━━━━━\u001b[0m\u001b[37m\u001b[0m \u001b[1m1s\u001b[0m 3ms/step - accuracy: 0.8638 - loss: 0.3347 - val_accuracy: 0.8655 - val_loss: 0.3461\n",
            "Epoch 23/50\n",
            "\u001b[1m250/250\u001b[0m \u001b[32m━━━━━━━━━━━━━━━━━━━━\u001b[0m\u001b[37m\u001b[0m \u001b[1m1s\u001b[0m 3ms/step - accuracy: 0.8541 - loss: 0.3494 - val_accuracy: 0.8610 - val_loss: 0.3467\n",
            "Epoch 24/50\n",
            "\u001b[1m250/250\u001b[0m \u001b[32m━━━━━━━━━━━━━━━━━━━━\u001b[0m\u001b[37m\u001b[0m \u001b[1m1s\u001b[0m 3ms/step - accuracy: 0.8607 - loss: 0.3395 - val_accuracy: 0.8610 - val_loss: 0.3477\n",
            "Epoch 25/50\n",
            "\u001b[1m250/250\u001b[0m \u001b[32m━━━━━━━━━━━━━━━━━━━━\u001b[0m\u001b[37m\u001b[0m \u001b[1m1s\u001b[0m 3ms/step - accuracy: 0.8628 - loss: 0.3340 - val_accuracy: 0.8610 - val_loss: 0.3498\n",
            "Epoch 26/50\n",
            "\u001b[1m250/250\u001b[0m \u001b[32m━━━━━━━━━━━━━━━━━━━━\u001b[0m\u001b[37m\u001b[0m \u001b[1m1s\u001b[0m 3ms/step - accuracy: 0.8623 - loss: 0.3311 - val_accuracy: 0.8585 - val_loss: 0.3488\n",
            "Epoch 27/50\n",
            "\u001b[1m250/250\u001b[0m \u001b[32m━━━━━━━━━━━━━━━━━━━━\u001b[0m\u001b[37m\u001b[0m \u001b[1m1s\u001b[0m 3ms/step - accuracy: 0.8602 - loss: 0.3395 - val_accuracy: 0.8610 - val_loss: 0.3427\n",
            "Epoch 28/50\n",
            "\u001b[1m250/250\u001b[0m \u001b[32m━━━━━━━━━━━━━━━━━━━━\u001b[0m\u001b[37m\u001b[0m \u001b[1m2s\u001b[0m 5ms/step - accuracy: 0.8574 - loss: 0.3354 - val_accuracy: 0.8570 - val_loss: 0.3468\n",
            "Epoch 29/50\n",
            "\u001b[1m250/250\u001b[0m \u001b[32m━━━━━━━━━━━━━━━━━━━━\u001b[0m\u001b[37m\u001b[0m \u001b[1m1s\u001b[0m 3ms/step - accuracy: 0.8603 - loss: 0.3334 - val_accuracy: 0.8610 - val_loss: 0.3452\n",
            "Epoch 30/50\n",
            "\u001b[1m250/250\u001b[0m \u001b[32m━━━━━━━━━━━━━━━━━━━━\u001b[0m\u001b[37m\u001b[0m \u001b[1m1s\u001b[0m 3ms/step - accuracy: 0.8606 - loss: 0.3331 - val_accuracy: 0.8605 - val_loss: 0.3463\n",
            "Epoch 31/50\n",
            "\u001b[1m250/250\u001b[0m \u001b[32m━━━━━━━━━━━━━━━━━━━━\u001b[0m\u001b[37m\u001b[0m \u001b[1m1s\u001b[0m 3ms/step - accuracy: 0.8595 - loss: 0.3335 - val_accuracy: 0.8620 - val_loss: 0.3444\n",
            "Epoch 32/50\n",
            "\u001b[1m250/250\u001b[0m \u001b[32m━━━━━━━━━━━━━━━━━━━━\u001b[0m\u001b[37m\u001b[0m \u001b[1m1s\u001b[0m 3ms/step - accuracy: 0.8593 - loss: 0.3441 - val_accuracy: 0.8635 - val_loss: 0.3453\n",
            "Epoch 33/50\n",
            "\u001b[1m250/250\u001b[0m \u001b[32m━━━━━━━━━━━━━━━━━━━━\u001b[0m\u001b[37m\u001b[0m \u001b[1m1s\u001b[0m 3ms/step - accuracy: 0.8625 - loss: 0.3283 - val_accuracy: 0.8605 - val_loss: 0.3435\n",
            "Epoch 34/50\n",
            "\u001b[1m250/250\u001b[0m \u001b[32m━━━━━━━━━━━━━━━━━━━━\u001b[0m\u001b[37m\u001b[0m \u001b[1m1s\u001b[0m 3ms/step - accuracy: 0.8610 - loss: 0.3295 - val_accuracy: 0.8610 - val_loss: 0.3437\n",
            "Epoch 35/50\n",
            "\u001b[1m250/250\u001b[0m \u001b[32m━━━━━━━━━━━━━━━━━━━━\u001b[0m\u001b[37m\u001b[0m \u001b[1m1s\u001b[0m 3ms/step - accuracy: 0.8614 - loss: 0.3327 - val_accuracy: 0.8640 - val_loss: 0.3435\n",
            "Epoch 36/50\n",
            "\u001b[1m250/250\u001b[0m \u001b[32m━━━━━━━━━━━━━━━━━━━━\u001b[0m\u001b[37m\u001b[0m \u001b[1m1s\u001b[0m 3ms/step - accuracy: 0.8622 - loss: 0.3402 - val_accuracy: 0.8650 - val_loss: 0.3451\n",
            "Epoch 37/50\n",
            "\u001b[1m250/250\u001b[0m \u001b[32m━━━━━━━━━━━━━━━━━━━━\u001b[0m\u001b[37m\u001b[0m \u001b[1m1s\u001b[0m 3ms/step - accuracy: 0.8639 - loss: 0.3395 - val_accuracy: 0.8610 - val_loss: 0.3448\n",
            "Epoch 38/50\n",
            "\u001b[1m250/250\u001b[0m \u001b[32m━━━━━━━━━━━━━━━━━━━━\u001b[0m\u001b[37m\u001b[0m \u001b[1m1s\u001b[0m 3ms/step - accuracy: 0.8604 - loss: 0.3318 - val_accuracy: 0.8620 - val_loss: 0.3455\n",
            "Epoch 39/50\n",
            "\u001b[1m250/250\u001b[0m \u001b[32m━━━━━━━━━━━━━━━━━━━━\u001b[0m\u001b[37m\u001b[0m \u001b[1m1s\u001b[0m 4ms/step - accuracy: 0.8638 - loss: 0.3220 - val_accuracy: 0.8630 - val_loss: 0.3432\n",
            "Epoch 40/50\n",
            "\u001b[1m250/250\u001b[0m \u001b[32m━━━━━━━━━━━━━━━━━━━━\u001b[0m\u001b[37m\u001b[0m \u001b[1m1s\u001b[0m 5ms/step - accuracy: 0.8652 - loss: 0.3330 - val_accuracy: 0.8625 - val_loss: 0.3459\n",
            "Epoch 41/50\n",
            "\u001b[1m250/250\u001b[0m \u001b[32m━━━━━━━━━━━━━━━━━━━━\u001b[0m\u001b[37m\u001b[0m \u001b[1m2s\u001b[0m 3ms/step - accuracy: 0.8668 - loss: 0.3255 - val_accuracy: 0.8630 - val_loss: 0.3444\n",
            "Epoch 42/50\n",
            "\u001b[1m250/250\u001b[0m \u001b[32m━━━━━━━━━━━━━━━━━━━━\u001b[0m\u001b[37m\u001b[0m \u001b[1m1s\u001b[0m 3ms/step - accuracy: 0.8657 - loss: 0.3281 - val_accuracy: 0.8635 - val_loss: 0.3448\n",
            "Epoch 43/50\n",
            "\u001b[1m250/250\u001b[0m \u001b[32m━━━━━━━━━━━━━━━━━━━━\u001b[0m\u001b[37m\u001b[0m \u001b[1m1s\u001b[0m 3ms/step - accuracy: 0.8640 - loss: 0.3350 - val_accuracy: 0.8610 - val_loss: 0.3478\n",
            "Epoch 44/50\n",
            "\u001b[1m250/250\u001b[0m \u001b[32m━━━━━━━━━━━━━━━━━━━━\u001b[0m\u001b[37m\u001b[0m \u001b[1m1s\u001b[0m 3ms/step - accuracy: 0.8540 - loss: 0.3475 - val_accuracy: 0.8625 - val_loss: 0.3476\n",
            "Epoch 45/50\n",
            "\u001b[1m250/250\u001b[0m \u001b[32m━━━━━━━━━━━━━━━━━━━━\u001b[0m\u001b[37m\u001b[0m \u001b[1m1s\u001b[0m 3ms/step - accuracy: 0.8626 - loss: 0.3352 - val_accuracy: 0.8625 - val_loss: 0.3423\n",
            "Epoch 46/50\n",
            "\u001b[1m250/250\u001b[0m \u001b[32m━━━━━━━━━━━━━━━━━━━━\u001b[0m\u001b[37m\u001b[0m \u001b[1m1s\u001b[0m 3ms/step - accuracy: 0.8654 - loss: 0.3256 - val_accuracy: 0.8670 - val_loss: 0.3446\n",
            "Epoch 47/50\n",
            "\u001b[1m250/250\u001b[0m \u001b[32m━━━━━━━━━━━━━━━━━━━━\u001b[0m\u001b[37m\u001b[0m \u001b[1m1s\u001b[0m 3ms/step - accuracy: 0.8640 - loss: 0.3263 - val_accuracy: 0.8620 - val_loss: 0.3469\n",
            "Epoch 48/50\n",
            "\u001b[1m250/250\u001b[0m \u001b[32m━━━━━━━━━━━━━━━━━━━━\u001b[0m\u001b[37m\u001b[0m \u001b[1m1s\u001b[0m 3ms/step - accuracy: 0.8667 - loss: 0.3252 - val_accuracy: 0.8645 - val_loss: 0.3426\n",
            "Epoch 49/50\n",
            "\u001b[1m250/250\u001b[0m \u001b[32m━━━━━━━━━━━━━━━━━━━━\u001b[0m\u001b[37m\u001b[0m \u001b[1m2s\u001b[0m 4ms/step - accuracy: 0.8674 - loss: 0.3234 - val_accuracy: 0.8670 - val_loss: 0.3439\n",
            "Epoch 50/50\n",
            "\u001b[1m250/250\u001b[0m \u001b[32m━━━━━━━━━━━━━━━━━━━━\u001b[0m\u001b[37m\u001b[0m \u001b[1m1s\u001b[0m 5ms/step - accuracy: 0.8594 - loss: 0.3380 - val_accuracy: 0.8635 - val_loss: 0.3443\n",
            "\u001b[1m63/63\u001b[0m \u001b[32m━━━━━━━━━━━━━━━━━━━━\u001b[0m\u001b[37m\u001b[0m \u001b[1m0s\u001b[0m 2ms/step - accuracy: 0.8645 - loss: 0.3386\n",
            "Test Accuracy: 0.8635\n"
          ]
        }
      ],
      "source": [
        "# Training the neural network model\n",
        "history = model.fit(X_train_scaled, y_train, validation_data=(X_test_scaled, y_test),\n",
        "                    epochs=50, batch_size=32, verbose=1)\n",
        "\n",
        "# Evaluating model performance\n",
        "test_loss, test_accuracy = model.evaluate(X_test_scaled, y_test)\n",
        "print(f\"Test Accuracy: {test_accuracy:.4f}\")\n"
      ]
    },
    {
      "cell_type": "code",
      "execution_count": 12,
      "metadata": {
        "colab": {
          "base_uri": "https://localhost:8080/"
        },
        "id": "sbWUjD_gjWPh",
        "outputId": "cf7c6d58-4d34-4164-fedc-a2e74aadac17"
      },
      "outputs": [
        {
          "output_type": "execute_result",
          "data": {
            "text/plain": [
              "[array([[-1.45260021e-02, -1.80504218e-01,  2.97601130e-02,\n",
              "          8.05260241e-02, -8.50017518e-02,  3.27837430e-02,\n",
              "          3.80761139e-02,  6.43878477e-03,  1.00054428e-01,\n",
              "         -3.74200009e-02, -4.61296104e-02,  1.17167898e-01,\n",
              "         -9.60189253e-02,  9.11851823e-02,  8.91341493e-02,\n",
              "          1.43910907e-02, -1.52960584e-01, -1.03564253e-02,\n",
              "         -1.59016997e-01, -1.61547706e-01,  1.05514467e-01,\n",
              "          2.39069492e-01,  2.93252748e-02, -6.13995548e-03,\n",
              "         -2.02982835e-02, -2.07163543e-01,  3.40824202e-02,\n",
              "          2.44191170e-01,  1.52291551e-01, -1.12581858e-03,\n",
              "         -5.53801982e-03,  1.11293092e-01,  5.14298677e-02,\n",
              "          1.11032054e-01, -8.85917172e-02, -8.69329721e-02,\n",
              "         -9.42957476e-02,  1.27105236e-01, -7.23623857e-02,\n",
              "         -1.28786918e-02,  3.42421122e-02, -7.91641623e-02,\n",
              "         -8.04076791e-02, -3.49457860e-02, -1.87957078e-01,\n",
              "         -1.51482224e-02, -9.95437894e-03, -4.02400717e-02,\n",
              "         -6.03946298e-03,  6.40708581e-02, -1.51084930e-01,\n",
              "          9.11564678e-02,  1.95035413e-01, -5.86939938e-02,\n",
              "          1.11339122e-01,  1.15912773e-01,  5.72922118e-02,\n",
              "         -4.52950038e-02,  4.48770858e-02, -1.27950251e-01,\n",
              "         -5.06877229e-02,  3.18779722e-02, -2.41064429e-02,\n",
              "          7.74308145e-02],\n",
              "        [ 4.64336395e-01, -5.86758479e-02, -2.93298692e-01,\n",
              "         -6.03317618e-02, -2.87430197e-01, -3.88122164e-03,\n",
              "          2.90065110e-02,  1.94264442e-01, -4.46359217e-01,\n",
              "         -1.34522855e-01, -2.04716742e-01, -3.39419335e-01,\n",
              "         -4.59795713e-01,  3.69836897e-01, -2.51335233e-01,\n",
              "         -4.41142291e-01,  3.97574753e-01, -2.60196745e-01,\n",
              "          4.90950197e-01,  6.30880240e-03,  2.74334490e-01,\n",
              "         -3.36441278e-01,  1.59517348e-01, -5.09379387e-01,\n",
              "         -5.06711543e-01,  5.22996485e-01,  3.43317360e-01,\n",
              "          3.27895105e-01, -6.26366958e-03, -2.59179980e-01,\n",
              "         -5.06625116e-01,  1.38783947e-01, -4.35072482e-01,\n",
              "         -1.21393099e-01, -5.84976971e-01, -3.22664559e-01,\n",
              "          4.49178249e-01, -4.72105682e-01,  2.28826344e-01,\n",
              "          2.15013891e-01, -3.98159802e-01, -2.77134657e-01,\n",
              "         -3.53153318e-01, -3.95885497e-01,  3.33583578e-02,\n",
              "          2.27336779e-01, -4.21042919e-01,  2.18473434e-01,\n",
              "          2.75986549e-02, -2.32461303e-01, -2.01236293e-01,\n",
              "         -4.16929811e-01,  3.02926093e-01, -2.84438822e-02,\n",
              "          5.07373698e-02, -2.13293687e-01, -1.03227183e-01,\n",
              "         -3.25880975e-01, -1.62487343e-01,  5.17367363e-01,\n",
              "          2.20902294e-01, -4.55602966e-02,  4.53683019e-01,\n",
              "         -9.23589338e-03],\n",
              "        [ 4.42560315e-02,  5.01772836e-02,  1.48897365e-01,\n",
              "          7.03213736e-02,  1.25856891e-01, -1.93354562e-02,\n",
              "         -6.04563467e-02, -4.52482700e-03, -9.36136171e-02,\n",
              "         -1.89409330e-02, -1.61206305e-01,  4.81713563e-02,\n",
              "         -1.11225648e-02,  7.56607726e-02, -2.87862778e-01,\n",
              "         -4.40737791e-02, -9.76972878e-02, -5.16315997e-02,\n",
              "         -4.59524728e-02,  8.40750709e-02,  2.05234244e-01,\n",
              "          2.44193729e-02,  1.20490149e-01, -1.06314629e-01,\n",
              "         -9.08285677e-02, -1.24444947e-01,  2.05061436e-01,\n",
              "          4.43851426e-02,  4.91346233e-03, -4.53404300e-02,\n",
              "         -1.32173058e-02,  2.53479511e-01, -4.27289233e-02,\n",
              "          3.33827958e-02, -3.56351305e-03, -2.28736848e-02,\n",
              "          4.14961427e-02,  3.17440741e-02,  2.85402924e-01,\n",
              "          2.63710111e-01, -5.31598143e-02,  1.30548283e-01,\n",
              "          4.16352116e-02,  1.10154741e-01, -2.01115891e-01,\n",
              "         -2.09180731e-02,  5.97041287e-02, -4.16874513e-02,\n",
              "          3.11413277e-02,  1.77646354e-01,  1.11669630e-01,\n",
              "         -1.23258092e-01,  9.31172073e-02, -1.53706353e-02,\n",
              "         -5.25914617e-02, -2.11566404e-01,  5.10144718e-02,\n",
              "          7.70736933e-02,  4.90193442e-02,  3.13550383e-02,\n",
              "         -1.26978345e-02,  9.03745666e-02, -4.95854877e-02,\n",
              "         -3.78800668e-02],\n",
              "        [-1.23414472e-01,  3.67629007e-02,  8.93278271e-02,\n",
              "         -1.41181812e-01, -3.56682837e-01, -4.97593641e-01,\n",
              "         -5.16231716e-01,  2.41604552e-01,  1.35545179e-01,\n",
              "         -3.24187160e-01, -1.03164325e-02, -2.31227711e-01,\n",
              "         -9.67742577e-02, -3.80091369e-02, -4.79706302e-02,\n",
              "         -4.13048640e-02, -1.31925762e-01, -2.81588018e-01,\n",
              "         -1.33616522e-01, -5.75429015e-02, -1.31661713e-01,\n",
              "         -7.76222274e-02, -2.12194726e-01,  1.38215467e-01,\n",
              "         -4.00195494e-02,  5.87670505e-02,  1.12458505e-02,\n",
              "         -3.04264277e-01,  6.38457984e-02, -2.03375936e-01,\n",
              "         -5.68636239e-01, -1.33921281e-01,  3.68547216e-02,\n",
              "         -3.77426296e-01,  6.61340430e-02,  4.15373370e-02,\n",
              "          4.01744619e-02,  3.47543396e-02, -7.97358975e-02,\n",
              "         -4.43219766e-02,  1.88056426e-03, -3.64996225e-01,\n",
              "          3.92872654e-03, -1.00438878e-01, -3.13556850e-01,\n",
              "         -4.56338115e-02, -1.07055075e-01,  1.93599731e-01,\n",
              "          2.12476149e-01,  1.15149528e-01,  7.77742490e-02,\n",
              "         -2.89010741e-02, -1.89800069e-01,  2.24510938e-01,\n",
              "         -4.85785276e-01, -2.77940363e-01,  4.29216355e-01,\n",
              "         -3.88419479e-02,  5.73517323e-01, -5.87788634e-02,\n",
              "         -2.86848694e-02, -2.10099399e-01,  1.09348848e-01,\n",
              "         -6.14048362e-01],\n",
              "        [-4.10443097e-01,  6.10011220e-01,  6.96602762e-02,\n",
              "          6.91819787e-01, -2.60160193e-02,  4.82712120e-01,\n",
              "         -3.70104373e-01,  1.37671679e-01, -3.22630163e-03,\n",
              "         -2.57898778e-01,  2.33009219e-01, -3.46946627e-01,\n",
              "          1.63572561e-02, -3.38893056e-01,  3.47473547e-02,\n",
              "          8.78233612e-02, -3.36596042e-01, -1.86200261e-01,\n",
              "         -3.72949064e-01,  7.55473077e-01, -3.15288305e-01,\n",
              "          8.92290846e-03, -3.01344395e-01, -1.30237252e-01,\n",
              "          5.96260764e-02, -1.99123219e-01,  1.35722324e-01,\n",
              "         -2.32395872e-01,  5.69267690e-01, -2.84457386e-01,\n",
              "         -1.53563553e-02, -1.13832794e-01, -8.98985937e-03,\n",
              "         -2.91201532e-01,  7.00422972e-02, -2.11026654e-01,\n",
              "          6.82395577e-01, -1.92306533e-01,  1.38430670e-01,\n",
              "         -1.15571953e-01,  1.57597601e-01, -6.16853917e-03,\n",
              "         -1.15234129e-01, -6.71918020e-02, -1.54787526e-02,\n",
              "          1.96943730e-02, -1.16551165e-02,  5.15587091e-01,\n",
              "          3.67136419e-01,  5.22949219e-01,  4.96402234e-01,\n",
              "         -1.35288790e-01, -3.09026510e-01,  4.39066857e-01,\n",
              "         -3.00533921e-01, -1.38153270e-01, -2.38580316e-01,\n",
              "         -1.03070825e-01, -1.87169209e-01,  7.88810432e-01,\n",
              "         -8.08010772e-02, -1.76300198e-01,  4.99328464e-01,\n",
              "         -5.52318096e-01],\n",
              "        [-2.12150719e-02, -1.00770837e-03,  2.73527801e-01,\n",
              "          1.85519308e-01,  4.59420085e-02,  2.46003997e-02,\n",
              "         -1.81287844e-02,  1.00281440e-01,  3.64061296e-02,\n",
              "         -1.68275416e-01,  2.03837559e-01,  1.40345648e-01,\n",
              "         -1.61227703e-01,  6.80710515e-03, -1.59064546e-01,\n",
              "         -1.94511577e-01, -1.32688200e-02, -5.27469553e-02,\n",
              "          2.60716993e-02, -3.92164709e-03, -3.10759768e-02,\n",
              "          1.99504897e-01, -3.88312638e-02, -3.42276208e-02,\n",
              "         -1.67794943e-01,  8.18541215e-04,  1.86021939e-01,\n",
              "          1.70223311e-01, -1.38500929e-02,  8.27291012e-02,\n",
              "          6.16171546e-02,  2.78761126e-02, -1.20112915e-02,\n",
              "          1.13659874e-01,  4.54435349e-02, -2.04703920e-02,\n",
              "          2.75414251e-03,  2.00453792e-02,  9.42933708e-02,\n",
              "          2.07400039e-01, -1.97751001e-01, -5.98378330e-02,\n",
              "         -4.80993167e-02,  1.01633132e-01,  1.15111861e-02,\n",
              "         -4.16541174e-02, -1.23832867e-01, -6.76694140e-02,\n",
              "         -3.71573046e-02, -9.94989052e-02, -4.80277315e-02,\n",
              "         -2.85904072e-02, -5.25897071e-02, -3.44209224e-02,\n",
              "          5.89654688e-03, -1.09888449e-01,  5.30692190e-02,\n",
              "          2.08095238e-01, -4.11310159e-02, -3.37001458e-02,\n",
              "          3.46138491e-03, -7.61831775e-02, -4.16798964e-02,\n",
              "         -4.46522981e-02],\n",
              "        [-3.08632404e-01, -1.84288576e-01,  1.62175775e-01,\n",
              "         -9.77602750e-02,  1.20961607e-01,  1.48465568e-02,\n",
              "         -3.74477059e-02,  5.42424560e-01,  1.70829907e-01,\n",
              "          2.25356027e-01,  2.43953794e-01, -1.51995972e-01,\n",
              "         -1.10772967e-01, -1.70863032e-01,  2.49294743e-01,\n",
              "         -1.54159233e-01,  3.49917402e-03,  2.08242089e-01,\n",
              "         -4.74998280e-02, -1.57377064e-01, -3.09845507e-01,\n",
              "         -1.31741688e-01,  4.68400329e-01, -5.51227527e-03,\n",
              "         -1.75451219e-01,  3.21388170e-02,  3.32782358e-01,\n",
              "          2.90124863e-01, -1.22060403e-01, -4.36714888e-02,\n",
              "          1.07787382e-02,  4.24676418e-01, -8.31831321e-02,\n",
              "          1.02088861e-01,  2.62630102e-03,  3.95917669e-02,\n",
              "          2.24409267e-01,  3.21459919e-02,  3.38645399e-01,\n",
              "          3.04970503e-01,  7.00774491e-02,  1.23919986e-01,\n",
              "         -3.52266431e-02,  1.20241731e-01,  2.45001782e-02,\n",
              "         -3.77768606e-01,  1.19810060e-01,  3.83258909e-01,\n",
              "         -2.76103150e-02,  1.36148825e-01,  2.33876184e-02,\n",
              "         -7.01263770e-02,  2.60824174e-01, -8.88373777e-02,\n",
              "         -2.48233899e-02,  1.97396949e-01,  1.54812247e-01,\n",
              "          3.17142345e-02,  2.23790742e-02,  1.65396944e-01,\n",
              "         -3.59298915e-01,  2.03636736e-01,  1.39514774e-01,\n",
              "          2.12487113e-02],\n",
              "        [ 4.36210148e-02,  2.04445705e-01,  7.88459405e-02,\n",
              "          1.52782664e-01, -1.47474647e-01, -4.30766633e-03,\n",
              "         -5.37719997e-03,  3.56817357e-02,  1.79561190e-02,\n",
              "          2.73865253e-01,  1.24429084e-01, -2.26845577e-01,\n",
              "         -5.35036065e-02,  3.07666734e-02, -2.80467644e-02,\n",
              "         -5.23614581e-04,  9.09773260e-02, -1.32443637e-01,\n",
              "          1.33065144e-02,  1.21948570e-01,  1.21998690e-01,\n",
              "          1.23797402e-01,  2.05284320e-02,  2.28913873e-02,\n",
              "          3.32362624e-03,  2.39634402e-02,  3.86047699e-02,\n",
              "          3.46045638e-03, -1.68470263e-01, -7.41032735e-02,\n",
              "         -2.33603595e-03, -8.26712176e-02,  1.84774902e-02,\n",
              "         -1.44846709e-02,  7.12154806e-02,  1.20173365e-01,\n",
              "         -2.57739946e-02,  6.26644790e-02, -6.04396537e-02,\n",
              "         -7.11586028e-02, -1.63250610e-01, -1.42878294e-01,\n",
              "         -1.97351217e-01, -1.10358097e-01, -4.05177981e-01,\n",
              "         -1.83598362e-02, -9.30917114e-02, -6.29597306e-02,\n",
              "          6.21039346e-02, -4.48442474e-02,  2.32116759e-01,\n",
              "          1.15553237e-01, -2.26816796e-02,  6.67506978e-02,\n",
              "          1.19660914e-01,  9.58498418e-02,  1.57794729e-01,\n",
              "          1.22803360e-01,  2.33949553e-02, -2.31625848e-02,\n",
              "          4.23185676e-02,  8.55221301e-02, -5.78394681e-02,\n",
              "          2.81828996e-02],\n",
              "        [ 3.28843623e-01,  7.88865313e-02, -1.44946039e-01,\n",
              "          2.43287712e-01,  9.65302512e-02,  4.09709901e-01,\n",
              "          2.98777580e-01, -2.44430721e-01, -1.09496675e-01,\n",
              "         -2.08656937e-01, -7.60895461e-02,  5.57990111e-02,\n",
              "          3.84948403e-02,  2.37029046e-01, -1.43299952e-01,\n",
              "         -2.02131569e-02,  7.99798667e-02, -8.90527293e-02,\n",
              "          1.62463337e-01, -1.04672071e-02,  1.89214781e-01,\n",
              "          1.33626595e-01,  1.31812572e-01, -8.46132413e-02,\n",
              "         -4.14777808e-02,  8.52248445e-02, -1.96766213e-01,\n",
              "         -5.10795340e-02,  5.27176866e-03, -4.06799525e-01,\n",
              "          2.88612396e-01, -3.64548266e-01, -8.21513608e-02,\n",
              "         -1.20298393e-01,  1.40322104e-01,  1.74121380e-01,\n",
              "          1.33111048e-02,  9.93309617e-02, -1.24505721e-01,\n",
              "         -1.71798036e-01, -2.32056648e-01,  1.23483174e-01,\n",
              "         -3.48126233e-01, -2.56210536e-01,  1.91293970e-01,\n",
              "         -6.83351560e-03, -1.94209367e-01, -2.29502887e-01,\n",
              "         -1.07113570e-01, -2.74763942e-01, -1.52508661e-01,\n",
              "         -1.27793714e-01,  1.80427939e-01, -1.27212957e-01,\n",
              "         -2.19788074e-01,  4.85470146e-02,  7.72923753e-02,\n",
              "         -6.01255000e-02, -3.13269436e-01, -4.37920131e-02,\n",
              "         -3.86560820e-02,  3.17673832e-02, -3.02865859e-02,\n",
              "          4.13876116e-01],\n",
              "        [-7.88269639e-02,  1.97998032e-01, -1.98666565e-02,\n",
              "         -4.17319639e-03, -6.54872209e-02, -4.29712841e-03,\n",
              "          6.10990152e-02,  5.28421067e-02,  1.33192122e-01,\n",
              "         -6.79117814e-02, -1.81485847e-01,  2.53662735e-01,\n",
              "         -9.81568992e-02, -1.88413374e-02, -1.09570302e-01,\n",
              "         -1.06668383e-01, -4.06304710e-02,  9.17661339e-02,\n",
              "         -8.37896615e-02,  1.28680199e-01, -3.17064002e-02,\n",
              "         -6.00508489e-02,  1.39134601e-01, -3.81076694e-01,\n",
              "         -1.04227811e-01, -1.64662719e-01, -1.30841196e-01,\n",
              "         -1.12720132e-01,  1.38135090e-01,  2.77696587e-02,\n",
              "          7.39919171e-02, -1.19138332e-02, -4.79778230e-01,\n",
              "         -1.17827572e-01,  3.20886612e-01, -4.48021412e-01,\n",
              "          4.97056590e-03,  5.62914312e-02,  7.16526806e-02,\n",
              "          1.15751915e-01, -3.95590127e-01, -7.42813246e-03,\n",
              "          2.23482978e-02,  1.51110038e-01,  1.33483410e-01,\n",
              "          2.12362390e-02, -1.11223444e-01,  1.75451413e-02,\n",
              "          1.28955161e-02,  1.77375838e-01, -4.36359271e-02,\n",
              "         -1.48818716e-01, -5.50519638e-02,  1.15610428e-01,\n",
              "          4.36527655e-02, -3.14599276e-02,  1.40580878e-01,\n",
              "          7.95001313e-02, -1.84817631e-02,  6.72323108e-02,\n",
              "          1.38267437e-02, -7.74551630e-02,  4.67012823e-03,\n",
              "          1.50342435e-01],\n",
              "        [-2.12062784e-02,  1.16948411e-01,  2.22620331e-02,\n",
              "         -1.23829907e-02,  8.44954252e-02,  4.46948269e-03,\n",
              "         -3.51521634e-02,  1.50344120e-02,  1.12802153e-02,\n",
              "          2.47710750e-01,  5.27142361e-02, -2.12410644e-01,\n",
              "          7.78065622e-02, -4.62091379e-02,  4.61862646e-02,\n",
              "         -3.70465703e-02,  6.96552768e-02,  1.15601279e-01,\n",
              "          3.94749641e-03, -2.02918518e-02, -9.19885635e-02,\n",
              "         -5.06028719e-02,  6.55170754e-02, -3.40205571e-03,\n",
              "         -5.07980436e-02,  4.58494388e-02,  1.38698936e-01,\n",
              "          2.08119959e-01,  5.72261289e-02,  4.36113514e-02,\n",
              "         -1.04570463e-01,  1.67726770e-01,  1.56496819e-02,\n",
              "          6.47976398e-02, -4.30360809e-02, -3.00258156e-02,\n",
              "         -2.75821034e-02,  3.18696141e-01,  5.82879409e-02,\n",
              "          6.77102581e-02,  1.72349855e-01,  1.52416542e-01,\n",
              "          8.18457454e-02,  8.52602869e-02,  1.35624751e-01,\n",
              "         -4.78905998e-02,  3.38284880e-01,  1.08700082e-01,\n",
              "         -9.94147733e-03,  6.85935467e-02,  2.60387897e-01,\n",
              "          1.60442561e-01,  1.48099259e-01, -3.83198187e-02,\n",
              "         -4.71352078e-02, -2.85505801e-02,  1.89441785e-01,\n",
              "          3.54072183e-01,  9.49223116e-02, -4.35418226e-02,\n",
              "          4.26286794e-02,  3.90629441e-01,  4.05936986e-02,\n",
              "          4.85247485e-02]], dtype=float32),\n",
              " array([-0.13184072, -0.10046957,  0.13853285, -0.05089993, -0.07766362,\n",
              "        -0.03880048,  0.02729571, -0.25629187,  0.06963018,  0.03749423,\n",
              "        -0.03452843, -0.08740668,  0.15238658, -0.13916618,  0.04034875,\n",
              "         0.13899386, -0.22736295,  0.20757051, -0.2690118 , -0.32390565,\n",
              "        -0.26980135, -0.19828574, -0.06172524,  0.06980742,  0.19830869,\n",
              "        -0.30075157, -0.34232366, -0.3161143 , -0.3752783 ,  0.11856165,\n",
              "        -0.06030725, -0.22646411,  0.12982497,  0.17016703,  0.1758528 ,\n",
              "         0.02415008, -0.220027  ,  0.08766945, -0.34730464, -0.18865901,\n",
              "         0.09542235, -0.07591426,  0.13666168,  0.30935273, -0.26498538,\n",
              "        -0.46323267,  0.01168314, -0.20672923, -0.6549659 ,  0.11673263,\n",
              "         0.08989657,  0.12403281, -0.24472208, -0.6861079 , -0.33018434,\n",
              "        -0.00888045, -0.03899495, -0.02473889, -0.06202293, -0.30603698,\n",
              "        -0.40198514,  0.0110384 , -0.46853742,  0.05756971], dtype=float32)]"
            ]
          },
          "metadata": {},
          "execution_count": 12
        }
      ],
      "source": [
        "model.layers[0].get_weights()"
      ]
    },
    {
      "cell_type": "code",
      "execution_count": 13,
      "metadata": {
        "colab": {
          "base_uri": "https://localhost:8080/"
        },
        "id": "4rR4NqzzkY_h",
        "outputId": "af39a134-1d6b-4d35-83b0-0c9d8d8cec22"
      },
      "outputs": [
        {
          "output_type": "stream",
          "name": "stdout",
          "text": [
            "\u001b[1m63/63\u001b[0m \u001b[32m━━━━━━━━━━━━━━━━━━━━\u001b[0m\u001b[37m\u001b[0m \u001b[1m0s\u001b[0m 2ms/step\n"
          ]
        }
      ],
      "source": [
        "y_log = model.predict(X_test_scaled)"
      ]
    },
    {
      "cell_type": "code",
      "execution_count": 14,
      "metadata": {
        "id": "7k0Gjty7k2Mp"
      },
      "outputs": [],
      "source": [
        "y_pred = np.where(y_log > 0.5, 1, 0)"
      ]
    },
    {
      "cell_type": "code",
      "execution_count": 15,
      "metadata": {
        "colab": {
          "base_uri": "https://localhost:8080/"
        },
        "id": "uq0LDnSpk7tH",
        "outputId": "7add08d5-ed04-4f70-f82e-6c53814f7582"
      },
      "outputs": [
        {
          "output_type": "execute_result",
          "data": {
            "text/plain": [
              "0.8635"
            ]
          },
          "metadata": {},
          "execution_count": 15
        }
      ],
      "source": [
        "from sklearn.metrics import accuracy_score\n",
        "accuracy_score(y_test, y_pred)"
      ]
    },
    {
      "cell_type": "code",
      "execution_count": 16,
      "metadata": {
        "colab": {
          "base_uri": "https://localhost:8080/"
        },
        "id": "lkIB5GK3lQhy",
        "outputId": "8d63fe13-c4e3-4e2b-f251-899a653ac5fe",
        "collapsed": true
      },
      "outputs": [
        {
          "output_type": "stream",
          "name": "stdout",
          "text": [
            "{'accuracy': [0.7739999890327454, 0.8186249732971191, 0.8323749899864197, 0.8410000205039978, 0.84375, 0.8496249914169312, 0.8479999899864197, 0.8485000133514404, 0.8503749966621399, 0.8504999876022339, 0.8533750176429749, 0.8566250205039978, 0.8556249737739563, 0.8535000085830688, 0.8514999747276306, 0.8587499856948853, 0.8575000166893005, 0.8572499752044678, 0.8572499752044678, 0.8578749895095825, 0.8565000295639038, 0.862500011920929, 0.8611249923706055, 0.8604999780654907, 0.8612499833106995, 0.8633750081062317, 0.8617500066757202, 0.8586249947547913, 0.859499990940094, 0.8616250157356262, 0.8613749742507935, 0.8617500066757202, 0.8616250157356262, 0.859000027179718, 0.8606250286102295, 0.8631250262260437, 0.8640000224113464, 0.859499990940094, 0.8608750104904175, 0.8647500276565552, 0.8636249899864197, 0.8642500042915344, 0.8636249899864197, 0.8622499704360962, 0.8657500147819519, 0.8643749952316284, 0.8631250262260437, 0.8648750185966492, 0.8650000095367432, 0.862500011920929], 'loss': [0.49043500423431396, 0.4250156283378601, 0.4020971953868866, 0.3872542083263397, 0.37870800495147705, 0.3653550446033478, 0.3605915307998657, 0.36066100001335144, 0.35491928458213806, 0.3571648597717285, 0.3531343936920166, 0.34927433729171753, 0.3518187701702118, 0.34885546565055847, 0.3466310501098633, 0.34270724654197693, 0.34236258268356323, 0.3432818055152893, 0.3435191214084625, 0.34248584508895874, 0.3426068127155304, 0.33991867303848267, 0.34201133251190186, 0.3379785120487213, 0.3366566002368927, 0.33516359329223633, 0.33806559443473816, 0.3377532958984375, 0.3395959138870239, 0.33683329820632935, 0.3340757489204407, 0.33507463335990906, 0.3368551731109619, 0.33666911721229553, 0.3317373991012573, 0.3370743691921234, 0.33460694551467896, 0.3338250517845154, 0.32965555787086487, 0.331001877784729, 0.3301686644554138, 0.33015120029449463, 0.3322674036026001, 0.3293757736682892, 0.33288246393203735, 0.3296756148338318, 0.3304831385612488, 0.3287319242954254, 0.3268059194087982, 0.3313899338245392], 'val_accuracy': [0.8109999895095825, 0.8289999961853027, 0.847000002861023, 0.8525000214576721, 0.8554999828338623, 0.8554999828338623, 0.8569999933242798, 0.8560000061988831, 0.8544999957084656, 0.8554999828338623, 0.8569999933242798, 0.8565000295639038, 0.8604999780654907, 0.8569999933242798, 0.859499990940094, 0.8575000166893005, 0.8629999756813049, 0.8615000247955322, 0.8610000014305115, 0.8615000247955322, 0.8659999966621399, 0.8654999732971191, 0.8610000014305115, 0.8610000014305115, 0.8610000014305115, 0.8585000038146973, 0.8610000014305115, 0.8569999933242798, 0.8610000014305115, 0.8604999780654907, 0.8619999885559082, 0.8634999990463257, 0.8604999780654907, 0.8610000014305115, 0.8640000224113464, 0.8650000095367432, 0.8610000014305115, 0.8619999885559082, 0.8629999756813049, 0.862500011920929, 0.8629999756813049, 0.8634999990463257, 0.8610000014305115, 0.862500011920929, 0.862500011920929, 0.8669999837875366, 0.8619999885559082, 0.8644999861717224, 0.8669999837875366, 0.8634999990463257], 'val_loss': [0.4183894991874695, 0.39862778782844543, 0.37414199113845825, 0.3629845976829529, 0.35765716433525085, 0.3547939360141754, 0.35517165064811707, 0.35770925879478455, 0.3547688126564026, 0.3551379144191742, 0.3531356751918793, 0.3502204716205597, 0.3482113480567932, 0.3491482138633728, 0.349575936794281, 0.3465725779533386, 0.3493523597717285, 0.34781357645988464, 0.35006198287010193, 0.34719765186309814, 0.34599700570106506, 0.34609171748161316, 0.3466702699661255, 0.34771960973739624, 0.34980955719947815, 0.34880006313323975, 0.3426830470561981, 0.3467658460140228, 0.34523165225982666, 0.34625154733657837, 0.34439215064048767, 0.34526199102401733, 0.3434597849845886, 0.3437330722808838, 0.3434898555278778, 0.34508752822875977, 0.34483739733695984, 0.34548404812812805, 0.3431764841079712, 0.3458961844444275, 0.34443992376327515, 0.3448350131511688, 0.3478156328201294, 0.34760504961013794, 0.3422640860080719, 0.3445565402507782, 0.3469213843345642, 0.3425963222980499, 0.34388452768325806, 0.34425777196884155]}\n"
          ]
        }
      ],
      "source": [
        "import matplotlib.pyplot as plt\n",
        "print(history.history)"
      ]
    },
    {
      "cell_type": "code",
      "execution_count": 20,
      "metadata": {
        "colab": {
          "base_uri": "https://localhost:8080/",
          "height": 472
        },
        "id": "V_Z2fDZ7sJXB",
        "outputId": "27f1be50-e29e-41bc-fff6-156dce5fa5f0"
      },
      "outputs": [
        {
          "output_type": "display_data",
          "data": {
            "text/plain": [
              "<Figure size 640x480 with 1 Axes>"
            ],
            "image/png": "[encoded data removed]"
          },
          "metadata": {}
        }
      ],
      "source": [
        "import matplotlib.pyplot as plt\n",
        "\n",
        "# Plot loss values\n",
        "plt.plot(history.history['loss'], label='Training Loss')\n",
        "plt.plot(history.history['val_loss'], label='Validation Loss')\n",
        "\n",
        "# Add title and labels\n",
        "plt.title('Training & Validation Loss Over Epochs')\n",
        "plt.xlabel('Epochs')\n",
        "plt.ylabel('Loss')\n",
        "\n",
        "# Add a legend\n",
        "plt.legend()\n",
        "\n",
        "# Show the plot\n",
        "plt.show()"
      ]
    },
    {
      "cell_type": "code",
      "execution_count": 21,
      "metadata": {
        "colab": {
          "base_uri": "https://localhost:8080/",
          "height": 472
        },
        "id": "DgGLiNF_r92S",
        "outputId": "6d286f64-2611-4f18-82fb-b2727fb028ce"
      },
      "outputs": [
        {
          "output_type": "display_data",
          "data": {
            "text/plain": [
              "<Figure size 640x480 with 1 Axes>"
            ],
            "image/png": "[encoded data removed]"
          },
          "metadata": {}
        }
      ],
      "source": [
        "# Plot loss values\n",
        "plt.plot(history.history['accuracy'], label='Training Accuracy')\n",
        "plt.plot(history.history['val_accuracy'], label='Validation Accuracy')\n",
        "\n",
        "# Add title and labels\n",
        "plt.title('Training & Validation Accuracy Over Epochs')\n",
        "plt.xlabel('Epochs')\n",
        "plt.ylabel('Loss')\n",
        "\n",
        "# Add a legend\n",
        "plt.legend()\n",
        "\n",
        "# Show the plot\n",
        "plt.show()"
      ]
    }
  ],
  "metadata": {
    "colab": {
      "provenance": []
    },
    "kernelspec": {
      "display_name": "Python 3",
      "name": "python3"
    },
    "language_info": {
      "name": "python"
    }
  },
  "nbformat": 4,
  "nbformat_minor": 0
}